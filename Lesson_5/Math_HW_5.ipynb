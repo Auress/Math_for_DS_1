{
 "cells": [
  {
   "cell_type": "markdown",
   "metadata": {},
   "source": [
    "### Урок 5. Видеоурок. Элементы теории вероятностей"
   ]
  },
  {
   "cell_type": "markdown",
   "metadata": {},
   "source": [
    "### -- Автор: Шенк Евгений Станиславович"
   ]
  },
  {
   "cell_type": "code",
   "execution_count": 1,
   "metadata": {},
   "outputs": [],
   "source": [
    "import math\n",
    "import numpy as np\n",
    "import matplotlib.pyplot as plt\n",
    "import matplotlib.mlab as mlab\n",
    "\n",
    "import itertools\n",
    "import warnings\n",
    "\n",
    "warnings.filterwarnings('ignore')\n",
    "%matplotlib inline"
   ]
  },
  {
   "cell_type": "markdown",
   "metadata": {},
   "source": [
    "### Задание 1. Напишите код, моделирующий выпадение поля в рулетке (с учетом поля зеро)."
   ]
  },
  {
   "cell_type": "code",
   "execution_count": 2,
   "metadata": {},
   "outputs": [],
   "source": [
    "def roulette():\n",
    "    c = {0: 'green', 1: 'red', 2: 'black'}\n",
    "    r = [1, 3, 5, 7, 9, 12, 14, 16, 18, 19, 21, 23, 25, 27, 30, 32, 34, 36]\n",
    "    b = [2, 4, 6, 8, 10, 11, 13, 15, 17, 20, 22, 24, 26, 28, 29, 31, 33, 35]\n",
    "    g = [0]\n",
    "\n",
    "    x = np.random.randint(0, 37)\n",
    "    if x in g:\n",
    "        color = c[0]\n",
    "    elif x in r:\n",
    "        color = c[1]\n",
    "    elif x in b:\n",
    "        color = c[2]\n",
    "    else:\n",
    "        color = 'Error'\n",
    "\n",
    "    return(x, color)"
   ]
  },
  {
   "cell_type": "code",
   "execution_count": 3,
   "metadata": {},
   "outputs": [
    {
     "name": "stdout",
     "output_type": "stream",
     "text": [
      "(9, 'red')\n"
     ]
    }
   ],
   "source": [
    "print(roulette())"
   ]
  },
  {
   "cell_type": "markdown",
   "metadata": {},
   "source": [
    "### Задание 2.1 Напишите код, проверяющий любую из теорем сложения или умножения вероятности на примере рулетки или подбрасывания монетки."
   ]
  },
  {
   "cell_type": "code",
   "execution_count": 4,
   "metadata": {},
   "outputs": [
    {
     "name": "stdout",
     "output_type": "stream",
     "text": [
      "красных - 48828, черных - 48467, зиро - 2705, всего - 100000\n",
      "Шанс выпадения:\n",
      "программа:\n",
      "красных - 0.48828, черных - 0.48467, зиро - 0.02705\n",
      "вручную:\n",
      "красных - 0.4864864864864865, черных - 0.4864864864864865, зиро - 0.02702702702702703\n",
      "Шанс выпадения не черного (красный + зиро):\n",
      "программа - 0.51533\n",
      "вручную - 0.5135135135135136\n",
      "полная группа несовместимых событий (должно быть 1): 1.0\n"
     ]
    }
   ],
   "source": [
    "k, n = 0, 100000\n",
    "r = 0\n",
    "b = 0\n",
    "g = 0\n",
    "for i in range(n):\n",
    "    x = roulette()\n",
    "    if x[1] == 'green':\n",
    "        g += 1\n",
    "    elif x[1] == 'red':\n",
    "        r += 1\n",
    "    elif x[1] == 'black':\n",
    "        b += 1\n",
    "        \n",
    "k = r + g\n",
    "print(f'красных - {r}, черных - {b}, зиро - {g}, всего - {r+b+g}')\n",
    "print('Шанс выпадения:')\n",
    "print('программа:')\n",
    "print(f'красных - {r/n}, черных - {b/n}, зиро - {g/n}')\n",
    "print(f'вручную:')\n",
    "print(f'красных - {18/37}, черных - {18/37}, зиро - {1/37}')\n",
    "print('Шанс выпадения не черного (красный + зиро):')   \n",
    "print(f'программа - {k/n}')\n",
    "print(f'вручную - {18/37 + 1/37}')\n",
    "print(f'полная группа несовместимых событий (должно быть 1): {r/n + b/n + g/n}')"
   ]
  },
  {
   "cell_type": "markdown",
   "metadata": {},
   "source": [
    "### Задание 2.2 Сгенерируйте десять выборок случайных чисел х0, …, х9.\n",
    "### и постройте гистограмму распределения случайной суммы х0+х1+ …+ х9."
   ]
  },
  {
   "cell_type": "code",
   "execution_count": 5,
   "metadata": {},
   "outputs": [
    {
     "data": {
      "image/png": "[encoded data removed]",
      "text/plain": [
       "<Figure size 432x288 with 1 Axes>"
      ]
     },
     "metadata": {
      "needs_background": "light"
     },
     "output_type": "display_data"
    }
   ],
   "source": [
    "x = []\n",
    "sum_x = np.zeros(1000)\n",
    "for i in range(9):\n",
    "    x.append(np.random.rand(1000))\n",
    "    sum_x += x[i]\n",
    "num_bins = 10\n",
    "n, bins, patches = plt.hist(sum_x, num_bins)"
   ]
  },
  {
   "cell_type": "markdown",
   "metadata": {},
   "source": [
    "### Задание 3.1 Дополните код Монте-Карло последовательности независимых испытаний расчетом соответствующих вероятностей (через биномиальное распределение) и сравните результаты."
   ]
  },
  {
   "cell_type": "code",
   "execution_count": 6,
   "metadata": {},
   "outputs": [
    {
     "name": "stdout",
     "output_type": "stream",
     "text": [
      "37356 100000 0.37356\n",
      "0.375\n"
     ]
    }
   ],
   "source": [
    "n_true, n_total = 0, 100000\n",
    "a = np.random.randint(0, 2, n_total)\n",
    "b = np.random.randint(0, 2, n_total)\n",
    "c = np.random.randint(0, 2, n_total)\n",
    "d = np.random.randint(0, 2, n_total)\n",
    "k = 2 # Кол-во успехов\n",
    "n = 4 # Кол-во испытаний\n",
    "x = a + b + c + d\n",
    "for i in range(0, n_total):\n",
    "    if x[i] == k:\n",
    "        n_true += 1\n",
    "        \n",
    "coef_C = np.math.factorial(n) / (np.math.factorial(k) * np.math.factorial(n - k))\n",
    "P = coef_C * 0.5**k * 0.5**(n-k)\n",
    "\n",
    "print(n_true, n_total , n_true/n_total)\n",
    "print(P)"
   ]
  },
  {
   "cell_type": "markdown",
   "metadata": {},
   "source": [
    "### Задание 3.2 Повторите расчеты биномиальных коэффициентов и вероятностей k успехов в последовательности из n независимых испытаний, взяв другие значения n и k."
   ]
  },
  {
   "cell_type": "code",
   "execution_count": 7,
   "metadata": {},
   "outputs": [
    {
     "name": "stdout",
     "output_type": "stream",
     "text": [
      "23335 100000 0.23335\n",
      "0.234375\n"
     ]
    }
   ],
   "source": [
    "n_true, n_total = 0, 100000\n",
    "a = np.random.randint(0, 2, n_total)\n",
    "b = np.random.randint(0, 2, n_total)\n",
    "c = np.random.randint(0, 2, n_total)\n",
    "d = np.random.randint(0, 2, n_total)\n",
    "e = np.random.randint(0, 2, n_total)\n",
    "f = np.random.randint(0, 2, n_total)\n",
    "k = 4 # Кол-во успехов\n",
    "n = 6 # Кол-во испытаний\n",
    "x = a + b + c + d + e + f\n",
    "for i in range(0, n_total):\n",
    "    if x[i] == k:\n",
    "        n_true += 1\n",
    "        \n",
    "coef_C = np.math.factorial(n) / (np.math.factorial(k) * np.math.factorial(n - k))\n",
    "P = coef_C * 0.5**k * 0.5**(n-k)\n",
    "\n",
    "print(n_true, n_total , n_true/n_total)\n",
    "print(P)"
   ]
  },
  {
   "cell_type": "markdown",
   "metadata": {},
   "source": [
    "### Задание 4 Из урока по комбинаторике повторите расчеты, сгенерировав возможные варианты перестановок для других значений n и k"
   ]
  },
  {
   "cell_type": "code",
   "execution_count": 8,
   "metadata": {},
   "outputs": [
    {
     "name": "stdout",
     "output_type": "stream",
     "text": [
      "000\n",
      "001\n",
      "002\n",
      "003\n",
      "004\n",
      "010\n",
      "011\n",
      "012\n",
      "013\n",
      "014\n",
      "020\n",
      "021\n",
      "022\n",
      "023\n",
      "024\n",
      "030\n",
      "031\n",
      "032\n",
      "033\n",
      "034\n",
      "040\n",
      "041\n",
      "042\n",
      "043\n",
      "044\n",
      "100\n",
      "101\n",
      "102\n",
      "103\n",
      "104\n",
      "110\n",
      "111\n",
      "112\n",
      "113\n",
      "114\n",
      "120\n",
      "121\n",
      "122\n",
      "123\n",
      "124\n",
      "130\n",
      "131\n",
      "132\n",
      "133\n",
      "134\n",
      "140\n",
      "141\n",
      "142\n",
      "143\n",
      "144\n",
      "200\n",
      "201\n",
      "202\n",
      "203\n",
      "204\n",
      "210\n",
      "211\n",
      "212\n",
      "213\n",
      "214\n",
      "220\n",
      "221\n",
      "222\n",
      "223\n",
      "224\n",
      "230\n",
      "231\n",
      "232\n",
      "233\n",
      "234\n",
      "240\n",
      "241\n",
      "242\n",
      "243\n",
      "244\n",
      "300\n",
      "301\n",
      "302\n",
      "303\n",
      "304\n",
      "310\n",
      "311\n",
      "312\n",
      "313\n",
      "314\n",
      "320\n",
      "321\n",
      "322\n",
      "323\n",
      "324\n",
      "330\n",
      "331\n",
      "332\n",
      "333\n",
      "334\n",
      "340\n",
      "341\n",
      "342\n",
      "343\n",
      "344\n",
      "400\n",
      "401\n",
      "402\n",
      "403\n",
      "404\n",
      "410\n",
      "411\n",
      "412\n",
      "413\n",
      "414\n",
      "420\n",
      "421\n",
      "422\n",
      "423\n",
      "424\n",
      "430\n",
      "431\n",
      "432\n",
      "433\n",
      "434\n",
      "440\n",
      "441\n",
      "442\n",
      "443\n",
      "444\n"
     ]
    }
   ],
   "source": [
    "for p in itertools.product('01234', repeat=3):\n",
    "    print(''.join(p))"
   ]
  },
  {
   "cell_type": "code",
   "execution_count": 9,
   "metadata": {},
   "outputs": [
    {
     "name": "stdout",
     "output_type": "stream",
     "text": [
      "012\n",
      "013\n",
      "014\n",
      "021\n",
      "023\n",
      "024\n",
      "031\n",
      "032\n",
      "034\n",
      "041\n",
      "042\n",
      "043\n",
      "102\n",
      "103\n",
      "104\n",
      "120\n",
      "123\n",
      "124\n",
      "130\n",
      "132\n",
      "134\n",
      "140\n",
      "142\n",
      "143\n",
      "201\n",
      "203\n",
      "204\n",
      "210\n",
      "213\n",
      "214\n",
      "230\n",
      "231\n",
      "234\n",
      "240\n",
      "241\n",
      "243\n",
      "301\n",
      "302\n",
      "304\n",
      "310\n",
      "312\n",
      "314\n",
      "320\n",
      "321\n",
      "324\n",
      "340\n",
      "341\n",
      "342\n",
      "401\n",
      "402\n",
      "403\n",
      "410\n",
      "412\n",
      "413\n",
      "420\n",
      "421\n",
      "423\n",
      "430\n",
      "431\n",
      "432\n"
     ]
    }
   ],
   "source": [
    "for p in itertools.permutations('01234',3):\n",
    "    print(''.join(str(x) for x in p))"
   ]
  },
  {
   "cell_type": "code",
   "execution_count": 10,
   "metadata": {},
   "outputs": [
    {
     "name": "stdout",
     "output_type": "stream",
     "text": [
      "012\n",
      "013\n",
      "014\n",
      "023\n",
      "024\n",
      "034\n",
      "123\n",
      "124\n",
      "134\n",
      "234\n"
     ]
    }
   ],
   "source": [
    "for p in itertools.combinations('01234',3):\n",
    "    print(''.join(p))"
   ]
  },
  {
   "cell_type": "markdown",
   "metadata": {},
   "source": [
    "### Задание 5 Дополните код расчетом коэффициента корреляции x и y по формуле"
   ]
  },
  {
   "cell_type": "code",
   "execution_count": 11,
   "metadata": {},
   "outputs": [
    {
     "name": "stdout",
     "output_type": "stream",
     "text": [
      "0.6828605331704521 0.16045229458665602\n",
      "0.6828605331704526 0.16045229458665577\n",
      "Коэф корреляции расчетный - 0.9037680898153831, Коэф корреляции numpy - 0.9037680898153828\n"
     ]
    },
    {
     "data": {
      "image/png": "[encoded data removed]",
      "text/plain": [
       "<Figure size 432x288 with 1 Axes>"
      ]
     },
     "metadata": {
      "needs_background": "light"
     },
     "output_type": "display_data"
    }
   ],
   "source": [
    "n = 100\n",
    "r = 0.7\n",
    "x = np.random.rand(n)\n",
    "y = r * x + (1 - r) * np.random.rand(n)\n",
    "plt.plot(x, y, 'o')\n",
    "plt.xlabel('x')\n",
    "plt.ylabel('y')\n",
    "plt.grid()\n",
    "\n",
    "a = (np.sum(x) * np.sum(y) - n*np.sum(x*y)) / (np.sum(x)*np.sum(x) - n*np.sum(x*x))\n",
    "b = (np.sum(y) - a*np.sum(x))/n\n",
    "\n",
    "r = np.sum((x - np.average(x)) * (y - np.average(y))) / np.sqrt(np.sum((x - np.average(x))**2) * np.sum((y - np.average(y))**2))\n",
    "\n",
    "A = np.vstack([x, np.ones(len(x))]).T\n",
    "a1, b1 = np.linalg.lstsq(A, y)[0]\n",
    "print(a, b)\n",
    "print(a1, b1)\n",
    "print(f'Коэф корреляции расчетный - {r}, Коэф корреляции numpy - {np.corrcoef(x, y)[1,0]}')\n",
    "plt.plot([0, 1], [b, a + b])\n",
    "plt.show()"
   ]
  },
  {
   "cell_type": "code",
   "execution_count": null,
   "metadata": {},
   "outputs": [],
   "source": []
  }
 ],
 "metadata": {
  "kernelspec": {
   "display_name": "Python 3",
   "language": "python",
   "name": "python3"
  },
  "language_info": {
   "codemirror_mode": {
    "name": "ipython",
    "version": 3
   },
   "file_extension": ".py",
   "mimetype": "text/x-python",
   "name": "python",
   "nbconvert_exporter": "python",
   "pygments_lexer": "ipython3",
   "version": "3.7.3"
  }
 },
 "nbformat": 4,
 "nbformat_minor": 2
}
